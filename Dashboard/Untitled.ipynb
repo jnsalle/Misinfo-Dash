{
 "cells": [
  {
   "cell_type": "code",
   "execution_count": 1,
   "id": "8800c53c-1fd3-4b7e-bc83-7d575bbfda7a",
   "metadata": {},
   "outputs": [],
   "source": [
    "import pandas as pd\n",
    "import numpy as np"
   ]
  },
  {
   "cell_type": "code",
   "execution_count": 2,
   "id": "2de32be8-b934-4192-83af-4ef914d1e67b",
   "metadata": {},
   "outputs": [
    {
     "data": {
      "text/html": [
       "<div>\n",
       "<style scoped>\n",
       "    .dataframe tbody tr th:only-of-type {\n",
       "        vertical-align: middle;\n",
       "    }\n",
       "\n",
       "    .dataframe tbody tr th {\n",
       "        vertical-align: top;\n",
       "    }\n",
       "\n",
       "    .dataframe thead th {\n",
       "        text-align: right;\n",
       "    }\n",
       "</style>\n",
       "<table border=\"1\" class=\"dataframe\">\n",
       "  <thead>\n",
       "    <tr style=\"text-align: right;\">\n",
       "      <th></th>\n",
       "      <th>Unnamed: 0</th>\n",
       "      <th>text</th>\n",
       "      <th>text_tokens</th>\n",
       "      <th>label</th>\n",
       "      <th>pb_vLeft</th>\n",
       "      <th>pb_Left</th>\n",
       "      <th>pb_Neu</th>\n",
       "      <th>pb_Right</th>\n",
       "      <th>pb_vRight</th>\n",
       "      <th>cluster</th>\n",
       "      <th>Prob_True</th>\n",
       "      <th>Prob_Mix</th>\n",
       "      <th>Prob_Fake</th>\n",
       "    </tr>\n",
       "  </thead>\n",
       "  <tbody>\n",
       "    <tr>\n",
       "      <th>0</th>\n",
       "      <td>0</td>\n",
       "      <td>As police today captured the man wanted for qu...</td>\n",
       "      <td>['police', 'today', 'captured', 'man', 'wanted...</td>\n",
       "      <td>0</td>\n",
       "      <td>0.000102</td>\n",
       "      <td>0.058263</td>\n",
       "      <td>0.917039</td>\n",
       "      <td>0.024596</td>\n",
       "      <td>0.000000</td>\n",
       "      <td>0</td>\n",
       "      <td>0.534651</td>\n",
       "      <td>0.141977</td>\n",
       "      <td>0.323372</td>\n",
       "    </tr>\n",
       "    <tr>\n",
       "      <th>1</th>\n",
       "      <td>1</td>\n",
       "      <td>One day after explosive devices were discovere...</td>\n",
       "      <td>['one', 'day', 'explosive', 'device', 'discove...</td>\n",
       "      <td>0</td>\n",
       "      <td>0.020600</td>\n",
       "      <td>0.197261</td>\n",
       "      <td>0.688295</td>\n",
       "      <td>0.092837</td>\n",
       "      <td>0.001007</td>\n",
       "      <td>1</td>\n",
       "      <td>0.530501</td>\n",
       "      <td>0.192009</td>\n",
       "      <td>0.277490</td>\n",
       "    </tr>\n",
       "    <tr>\n",
       "      <th>2</th>\n",
       "      <td>2</td>\n",
       "      <td>Donald Trump's surrogates and leading supporte...</td>\n",
       "      <td>['donald', 'trump', 'surrogate', 'leading', 's...</td>\n",
       "      <td>0</td>\n",
       "      <td>0.021742</td>\n",
       "      <td>0.323494</td>\n",
       "      <td>0.519163</td>\n",
       "      <td>0.133200</td>\n",
       "      <td>0.002400</td>\n",
       "      <td>2</td>\n",
       "      <td>0.541207</td>\n",
       "      <td>0.280932</td>\n",
       "      <td>0.177860</td>\n",
       "    </tr>\n",
       "    <tr>\n",
       "      <th>3</th>\n",
       "      <td>3</td>\n",
       "      <td>Ahmad Khan Rahami, earlier named a person of i...</td>\n",
       "      <td>['ahmad', 'khan', 'rahami', 'earlier', 'named'...</td>\n",
       "      <td>0</td>\n",
       "      <td>0.000277</td>\n",
       "      <td>0.074029</td>\n",
       "      <td>0.922250</td>\n",
       "      <td>0.003444</td>\n",
       "      <td>0.000000</td>\n",
       "      <td>0</td>\n",
       "      <td>0.530118</td>\n",
       "      <td>-0.012248</td>\n",
       "      <td>0.482130</td>\n",
       "    </tr>\n",
       "    <tr>\n",
       "      <th>4</th>\n",
       "      <td>4</td>\n",
       "      <td>One woman was killed and several children were...</td>\n",
       "      <td>['one', 'woman', 'killed', 'several', 'child',...</td>\n",
       "      <td>0</td>\n",
       "      <td>0.001190</td>\n",
       "      <td>0.071361</td>\n",
       "      <td>0.909534</td>\n",
       "      <td>0.016895</td>\n",
       "      <td>0.001020</td>\n",
       "      <td>0</td>\n",
       "      <td>0.538871</td>\n",
       "      <td>0.162470</td>\n",
       "      <td>0.298660</td>\n",
       "    </tr>\n",
       "    <tr>\n",
       "      <th>...</th>\n",
       "      <td>...</td>\n",
       "      <td>...</td>\n",
       "      <td>...</td>\n",
       "      <td>...</td>\n",
       "      <td>...</td>\n",
       "      <td>...</td>\n",
       "      <td>...</td>\n",
       "      <td>...</td>\n",
       "      <td>...</td>\n",
       "      <td>...</td>\n",
       "      <td>...</td>\n",
       "      <td>...</td>\n",
       "      <td>...</td>\n",
       "    </tr>\n",
       "    <tr>\n",
       "      <th>1319</th>\n",
       "      <td>1319</td>\n",
       "      <td>It?s a response to the strange situationwe in,...</td>\n",
       "      <td>['response', 'strange', 'situationwe', 'buying...</td>\n",
       "      <td>0</td>\n",
       "      <td>0.004567</td>\n",
       "      <td>0.104054</td>\n",
       "      <td>0.845895</td>\n",
       "      <td>0.044479</td>\n",
       "      <td>0.001004</td>\n",
       "      <td>0</td>\n",
       "      <td>0.516459</td>\n",
       "      <td>0.010664</td>\n",
       "      <td>0.472877</td>\n",
       "    </tr>\n",
       "    <tr>\n",
       "      <th>1320</th>\n",
       "      <td>1320</td>\n",
       "      <td>Republican nominee Donald Trump has been trea...</td>\n",
       "      <td>['republican', 'nominee', 'donald', 'trump', '...</td>\n",
       "      <td>1</td>\n",
       "      <td>0.006998</td>\n",
       "      <td>0.153731</td>\n",
       "      <td>0.719757</td>\n",
       "      <td>0.117707</td>\n",
       "      <td>0.001806</td>\n",
       "      <td>1</td>\n",
       "      <td>0.502499</td>\n",
       "      <td>-0.013942</td>\n",
       "      <td>0.511443</td>\n",
       "    </tr>\n",
       "    <tr>\n",
       "      <th>1321</th>\n",
       "      <td>1321</td>\n",
       "      <td>To cap off a week in which police officers sh...</td>\n",
       "      <td>['cap', 'week', 'police', 'officer', 'shot', '...</td>\n",
       "      <td>0</td>\n",
       "      <td>0.006367</td>\n",
       "      <td>0.059806</td>\n",
       "      <td>0.896309</td>\n",
       "      <td>0.035792</td>\n",
       "      <td>0.001726</td>\n",
       "      <td>0</td>\n",
       "      <td>0.510186</td>\n",
       "      <td>0.207773</td>\n",
       "      <td>0.282041</td>\n",
       "    </tr>\n",
       "    <tr>\n",
       "      <th>1322</th>\n",
       "      <td>1322</td>\n",
       "      <td>Duringtonight debate, Republican nominee Dona...</td>\n",
       "      <td>['duringtonight', 'debate', 'republican', 'nom...</td>\n",
       "      <td>0</td>\n",
       "      <td>0.029551</td>\n",
       "      <td>0.247478</td>\n",
       "      <td>0.644167</td>\n",
       "      <td>0.075884</td>\n",
       "      <td>0.002920</td>\n",
       "      <td>1</td>\n",
       "      <td>0.504723</td>\n",
       "      <td>0.204875</td>\n",
       "      <td>0.290402</td>\n",
       "    </tr>\n",
       "    <tr>\n",
       "      <th>1323</th>\n",
       "      <td>1323</td>\n",
       "      <td>Usually, nobody says Trump is ready for battl...</td>\n",
       "      <td>['usually', 'nobody', 'say', 'trump', 'ready',...</td>\n",
       "      <td>1</td>\n",
       "      <td>0.035310</td>\n",
       "      <td>0.296731</td>\n",
       "      <td>0.545948</td>\n",
       "      <td>0.118373</td>\n",
       "      <td>0.003638</td>\n",
       "      <td>2</td>\n",
       "      <td>0.505982</td>\n",
       "      <td>0.220531</td>\n",
       "      <td>0.273487</td>\n",
       "    </tr>\n",
       "  </tbody>\n",
       "</table>\n",
       "<p>1324 rows × 13 columns</p>\n",
       "</div>"
      ],
      "text/plain": [
       "      Unnamed: 0                                               text  \\\n",
       "0              0  As police today captured the man wanted for qu...   \n",
       "1              1  One day after explosive devices were discovere...   \n",
       "2              2  Donald Trump's surrogates and leading supporte...   \n",
       "3              3  Ahmad Khan Rahami, earlier named a person of i...   \n",
       "4              4  One woman was killed and several children were...   \n",
       "...          ...                                                ...   \n",
       "1319        1319  It?s a response to the strange situationwe in,...   \n",
       "1320        1320   Republican nominee Donald Trump has been trea...   \n",
       "1321        1321   To cap off a week in which police officers sh...   \n",
       "1322        1322   Duringtonight debate, Republican nominee Dona...   \n",
       "1323        1323   Usually, nobody says Trump is ready for battl...   \n",
       "\n",
       "                                            text_tokens  label  pb_vLeft  \\\n",
       "0     ['police', 'today', 'captured', 'man', 'wanted...      0  0.000102   \n",
       "1     ['one', 'day', 'explosive', 'device', 'discove...      0  0.020600   \n",
       "2     ['donald', 'trump', 'surrogate', 'leading', 's...      0  0.021742   \n",
       "3     ['ahmad', 'khan', 'rahami', 'earlier', 'named'...      0  0.000277   \n",
       "4     ['one', 'woman', 'killed', 'several', 'child',...      0  0.001190   \n",
       "...                                                 ...    ...       ...   \n",
       "1319  ['response', 'strange', 'situationwe', 'buying...      0  0.004567   \n",
       "1320  ['republican', 'nominee', 'donald', 'trump', '...      1  0.006998   \n",
       "1321  ['cap', 'week', 'police', 'officer', 'shot', '...      0  0.006367   \n",
       "1322  ['duringtonight', 'debate', 'republican', 'nom...      0  0.029551   \n",
       "1323  ['usually', 'nobody', 'say', 'trump', 'ready',...      1  0.035310   \n",
       "\n",
       "       pb_Left    pb_Neu  pb_Right  pb_vRight  cluster  Prob_True  Prob_Mix  \\\n",
       "0     0.058263  0.917039  0.024596   0.000000        0   0.534651  0.141977   \n",
       "1     0.197261  0.688295  0.092837   0.001007        1   0.530501  0.192009   \n",
       "2     0.323494  0.519163  0.133200   0.002400        2   0.541207  0.280932   \n",
       "3     0.074029  0.922250  0.003444   0.000000        0   0.530118 -0.012248   \n",
       "4     0.071361  0.909534  0.016895   0.001020        0   0.538871  0.162470   \n",
       "...        ...       ...       ...        ...      ...        ...       ...   \n",
       "1319  0.104054  0.845895  0.044479   0.001004        0   0.516459  0.010664   \n",
       "1320  0.153731  0.719757  0.117707   0.001806        1   0.502499 -0.013942   \n",
       "1321  0.059806  0.896309  0.035792   0.001726        0   0.510186  0.207773   \n",
       "1322  0.247478  0.644167  0.075884   0.002920        1   0.504723  0.204875   \n",
       "1323  0.296731  0.545948  0.118373   0.003638        2   0.505982  0.220531   \n",
       "\n",
       "      Prob_Fake  \n",
       "0      0.323372  \n",
       "1      0.277490  \n",
       "2      0.177860  \n",
       "3      0.482130  \n",
       "4      0.298660  \n",
       "...         ...  \n",
       "1319   0.472877  \n",
       "1320   0.511443  \n",
       "1321   0.282041  \n",
       "1322   0.290402  \n",
       "1323   0.273487  \n",
       "\n",
       "[1324 rows x 13 columns]"
      ]
     },
     "execution_count": 2,
     "metadata": {},
     "output_type": "execute_result"
    }
   ],
   "source": [
    "df = pd.read_csv('all_predictions.csv')\n",
    "df"
   ]
  },
  {
   "cell_type": "code",
   "execution_count": 3,
   "id": "4ec75552-b03c-47fd-8b96-be510bec5b10",
   "metadata": {},
   "outputs": [
    {
     "data": {
      "text/html": [
       "<div>\n",
       "<style scoped>\n",
       "    .dataframe tbody tr th:only-of-type {\n",
       "        vertical-align: middle;\n",
       "    }\n",
       "\n",
       "    .dataframe tbody tr th {\n",
       "        vertical-align: top;\n",
       "    }\n",
       "\n",
       "    .dataframe thead th {\n",
       "        text-align: right;\n",
       "    }\n",
       "</style>\n",
       "<table border=\"1\" class=\"dataframe\">\n",
       "  <thead>\n",
       "    <tr style=\"text-align: right;\">\n",
       "      <th></th>\n",
       "      <th>id</th>\n",
       "      <th>title</th>\n",
       "      <th>article</th>\n",
       "      <th>democrat</th>\n",
       "      <th>republican</th>\n",
       "      <th>type</th>\n",
       "      <th>tokens</th>\n",
       "      <th>tokens_str</th>\n",
       "      <th>sentiment</th>\n",
       "      <th>word_count</th>\n",
       "      <th>article_len</th>\n",
       "    </tr>\n",
       "  </thead>\n",
       "  <tbody>\n",
       "    <tr>\n",
       "      <th>0</th>\n",
       "      <td>0</td>\n",
       "      <td>Zimmerman verdict renews focus on 'stand your ...</td>\n",
       "      <td>Maggie Clark\\n\\nPew/Stateline Staff Writer\\n\\n...</td>\n",
       "      <td>2</td>\n",
       "      <td>2</td>\n",
       "      <td>2.0</td>\n",
       "      <td>['maggie', 'clarkpewstateline', 'staff', 'writ...</td>\n",
       "      <td>maggie clarkpewstateline staff writer state la...</td>\n",
       "      <td>0.079039</td>\n",
       "      <td>389</td>\n",
       "      <td>2885</td>\n",
       "    </tr>\n",
       "    <tr>\n",
       "      <th>1</th>\n",
       "      <td>1</td>\n",
       "      <td>Senate Immigration Bill Passes Out Of Judiciar...</td>\n",
       "      <td>WASHINGTON -- The Senate Judiciary Committee a...</td>\n",
       "      <td>2</td>\n",
       "      <td>2</td>\n",
       "      <td>2.0</td>\n",
       "      <td>['washington', 'senate', 'judiciary', 'committ...</td>\n",
       "      <td>washington senate judiciary committee approved...</td>\n",
       "      <td>0.060037</td>\n",
       "      <td>620</td>\n",
       "      <td>4565</td>\n",
       "    </tr>\n",
       "    <tr>\n",
       "      <th>2</th>\n",
       "      <td>2</td>\n",
       "      <td>Don’t let DOMA fool you — the Supreme Court is...</td>\n",
       "      <td>David Cole is a professor of constitutional la...</td>\n",
       "      <td>2</td>\n",
       "      <td>2</td>\n",
       "      <td>2.0</td>\n",
       "      <td>['david', 'cole', 'professor', 'constitutional...</td>\n",
       "      <td>david cole professor constitutional law crimin...</td>\n",
       "      <td>0.067142</td>\n",
       "      <td>810</td>\n",
       "      <td>6555</td>\n",
       "    </tr>\n",
       "    <tr>\n",
       "      <th>3</th>\n",
       "      <td>3</td>\n",
       "      <td>ObamaCare in Trouble? Exchange provision delay...</td>\n",
       "      <td>NEW You can now listen to Fox News articles!\\n...</td>\n",
       "      <td>2</td>\n",
       "      <td>2</td>\n",
       "      <td>2.0</td>\n",
       "      <td>['new', 'listen', 'fox', 'news', 'articlespart...</td>\n",
       "      <td>new listen fox news articlesparts obamacare st...</td>\n",
       "      <td>0.002922</td>\n",
       "      <td>423</td>\n",
       "      <td>3053</td>\n",
       "    </tr>\n",
       "    <tr>\n",
       "      <th>4</th>\n",
       "      <td>4</td>\n",
       "      <td>Exclusive: Immigration Agents Rip House Lawmak...</td>\n",
       "      <td>U.S. Immigration Citizenship and Immigration S...</td>\n",
       "      <td>2</td>\n",
       "      <td>2</td>\n",
       "      <td>2.0</td>\n",
       "      <td>['immigration', 'citizenship', 'immigration', ...</td>\n",
       "      <td>u immigration citizenship immigration service ...</td>\n",
       "      <td>-0.045192</td>\n",
       "      <td>556</td>\n",
       "      <td>4300</td>\n",
       "    </tr>\n",
       "    <tr>\n",
       "      <th>...</th>\n",
       "      <td>...</td>\n",
       "      <td>...</td>\n",
       "      <td>...</td>\n",
       "      <td>...</td>\n",
       "      <td>...</td>\n",
       "      <td>...</td>\n",
       "      <td>...</td>\n",
       "      <td>...</td>\n",
       "      <td>...</td>\n",
       "      <td>...</td>\n",
       "      <td>...</td>\n",
       "    </tr>\n",
       "    <tr>\n",
       "      <th>15835</th>\n",
       "      <td>15835</td>\n",
       "      <td>Dana Milbank: Senators turn the tables on Caym...</td>\n",
       "      <td>President Obama won reelection in part by beat...</td>\n",
       "      <td>1</td>\n",
       "      <td>1</td>\n",
       "      <td>1.0</td>\n",
       "      <td>['president', 'obama', 'reelection', 'part', '...</td>\n",
       "      <td>president obama reelection part beating oppone...</td>\n",
       "      <td>0.186042</td>\n",
       "      <td>405</td>\n",
       "      <td>2986</td>\n",
       "    </tr>\n",
       "    <tr>\n",
       "      <th>15836</th>\n",
       "      <td>15836</td>\n",
       "      <td>Republicans’ Hatred of Obama Blinds Them to Pu...</td>\n",
       "      <td>Red-faced Republicans, circling and preparing ...</td>\n",
       "      <td>1</td>\n",
       "      <td>1</td>\n",
       "      <td>1.0</td>\n",
       "      <td>['redfaced', 'republican', 'circling', 'prepar...</td>\n",
       "      <td>redfaced republican circling preparing pounce ...</td>\n",
       "      <td>0.010294</td>\n",
       "      <td>430</td>\n",
       "      <td>3187</td>\n",
       "    </tr>\n",
       "    <tr>\n",
       "      <th>15837</th>\n",
       "      <td>15837</td>\n",
       "      <td>Dana Milbank: Stockman steps forward as Republ...</td>\n",
       "      <td>Rep. Steve Stockman’s moment as a viable Senat...</td>\n",
       "      <td>2</td>\n",
       "      <td>2</td>\n",
       "      <td>2.0</td>\n",
       "      <td>['rep', 'steve', 'stockman', 'moment', 'viable...</td>\n",
       "      <td>rep steve stockman moment viable senate candid...</td>\n",
       "      <td>0.120066</td>\n",
       "      <td>521</td>\n",
       "      <td>4016</td>\n",
       "    </tr>\n",
       "    <tr>\n",
       "      <th>15838</th>\n",
       "      <td>15838</td>\n",
       "      <td>E.J. Dionne: When Republicans were problem-sol...</td>\n",
       "      <td>We interrupt this highly partisan and ideologi...</td>\n",
       "      <td>1</td>\n",
       "      <td>1</td>\n",
       "      <td>1.0</td>\n",
       "      <td>['interrupt', 'highly', 'partisan', 'ideologic...</td>\n",
       "      <td>interrupt highly partisan ideological moment c...</td>\n",
       "      <td>0.137436</td>\n",
       "      <td>413</td>\n",
       "      <td>3201</td>\n",
       "    </tr>\n",
       "    <tr>\n",
       "      <th>15839</th>\n",
       "      <td>15839</td>\n",
       "      <td>'This Week' Criticized For Donald Trump Interv...</td>\n",
       "      <td>FILE - In this Sept. 27, 2012 file photo, Dona...</td>\n",
       "      <td>1</td>\n",
       "      <td>1</td>\n",
       "      <td>1.0</td>\n",
       "      <td>['file', 'sept', 'file', 'photo', 'donald', 't...</td>\n",
       "      <td>file sept file photo donald trump arrives open...</td>\n",
       "      <td>-0.149832</td>\n",
       "      <td>189</td>\n",
       "      <td>1389</td>\n",
       "    </tr>\n",
       "  </tbody>\n",
       "</table>\n",
       "<p>15840 rows × 11 columns</p>\n",
       "</div>"
      ],
      "text/plain": [
       "          id                                              title  \\\n",
       "0          0  Zimmerman verdict renews focus on 'stand your ...   \n",
       "1          1  Senate Immigration Bill Passes Out Of Judiciar...   \n",
       "2          2  Don’t let DOMA fool you — the Supreme Court is...   \n",
       "3          3  ObamaCare in Trouble? Exchange provision delay...   \n",
       "4          4  Exclusive: Immigration Agents Rip House Lawmak...   \n",
       "...      ...                                                ...   \n",
       "15835  15835  Dana Milbank: Senators turn the tables on Caym...   \n",
       "15836  15836  Republicans’ Hatred of Obama Blinds Them to Pu...   \n",
       "15837  15837  Dana Milbank: Stockman steps forward as Republ...   \n",
       "15838  15838  E.J. Dionne: When Republicans were problem-sol...   \n",
       "15839  15839  'This Week' Criticized For Donald Trump Interv...   \n",
       "\n",
       "                                                 article  democrat  \\\n",
       "0      Maggie Clark\\n\\nPew/Stateline Staff Writer\\n\\n...         2   \n",
       "1      WASHINGTON -- The Senate Judiciary Committee a...         2   \n",
       "2      David Cole is a professor of constitutional la...         2   \n",
       "3      NEW You can now listen to Fox News articles!\\n...         2   \n",
       "4      U.S. Immigration Citizenship and Immigration S...         2   \n",
       "...                                                  ...       ...   \n",
       "15835  President Obama won reelection in part by beat...         1   \n",
       "15836  Red-faced Republicans, circling and preparing ...         1   \n",
       "15837  Rep. Steve Stockman’s moment as a viable Senat...         2   \n",
       "15838  We interrupt this highly partisan and ideologi...         1   \n",
       "15839  FILE - In this Sept. 27, 2012 file photo, Dona...         1   \n",
       "\n",
       "       republican  type                                             tokens  \\\n",
       "0               2   2.0  ['maggie', 'clarkpewstateline', 'staff', 'writ...   \n",
       "1               2   2.0  ['washington', 'senate', 'judiciary', 'committ...   \n",
       "2               2   2.0  ['david', 'cole', 'professor', 'constitutional...   \n",
       "3               2   2.0  ['new', 'listen', 'fox', 'news', 'articlespart...   \n",
       "4               2   2.0  ['immigration', 'citizenship', 'immigration', ...   \n",
       "...           ...   ...                                                ...   \n",
       "15835           1   1.0  ['president', 'obama', 'reelection', 'part', '...   \n",
       "15836           1   1.0  ['redfaced', 'republican', 'circling', 'prepar...   \n",
       "15837           2   2.0  ['rep', 'steve', 'stockman', 'moment', 'viable...   \n",
       "15838           1   1.0  ['interrupt', 'highly', 'partisan', 'ideologic...   \n",
       "15839           1   1.0  ['file', 'sept', 'file', 'photo', 'donald', 't...   \n",
       "\n",
       "                                              tokens_str  sentiment  \\\n",
       "0      maggie clarkpewstateline staff writer state la...   0.079039   \n",
       "1      washington senate judiciary committee approved...   0.060037   \n",
       "2      david cole professor constitutional law crimin...   0.067142   \n",
       "3      new listen fox news articlesparts obamacare st...   0.002922   \n",
       "4      u immigration citizenship immigration service ...  -0.045192   \n",
       "...                                                  ...        ...   \n",
       "15835  president obama reelection part beating oppone...   0.186042   \n",
       "15836  redfaced republican circling preparing pounce ...   0.010294   \n",
       "15837  rep steve stockman moment viable senate candid...   0.120066   \n",
       "15838  interrupt highly partisan ideological moment c...   0.137436   \n",
       "15839  file sept file photo donald trump arrives open...  -0.149832   \n",
       "\n",
       "       word_count  article_len  \n",
       "0             389         2885  \n",
       "1             620         4565  \n",
       "2             810         6555  \n",
       "3             423         3053  \n",
       "4             556         4300  \n",
       "...           ...          ...  \n",
       "15835         405         2986  \n",
       "15836         430         3187  \n",
       "15837         521         4016  \n",
       "15838         413         3201  \n",
       "15839         189         1389  \n",
       "\n",
       "[15840 rows x 11 columns]"
      ]
     },
     "execution_count": 3,
     "metadata": {},
     "output_type": "execute_result"
    }
   ],
   "source": [
    "df2 = pd.read_csv('pb_budak_v3.csv')\n",
    "df2"
   ]
  },
  {
   "cell_type": "code",
   "execution_count": 4,
   "id": "404957ed-ec23-4bae-99b6-a8f7c3c2a54c",
   "metadata": {},
   "outputs": [],
   "source": [
    "pb_cols = ['pb_vLeft','pb_Left','pb_Neu','pb_Right','pb_vRight']\n",
    "pb_vals = [-2,-1,0,1,2]\n",
    "bias = []\n",
    "for i, row in df[pb_cols].iterrows():\n",
    "    wts = row.values\n",
    "    wt_avg = np.average(pb_vals, weights = wts)\n",
    "    bias.append(wt_avg)\n",
    "    \n",
    "fn_cols = ['Prob_True','Prob_Mix','Prob_Fake']\n",
    "fn_vals = [0,1,2]\n",
    "fn_prob = []\n",
    "\n",
    "for i, row in df[fn_cols].iterrows():\n",
    "    wts = row.values\n",
    "    wt_avg = np.average(fn_vals, weights = wts)\n",
    "    fn_prob.append(wt_avg)\n"
   ]
  },
  {
   "cell_type": "code",
   "execution_count": 5,
   "id": "89e817b4-e9b8-446a-b96f-56e223f8917d",
   "metadata": {},
   "outputs": [],
   "source": [
    "df['bias'] = bias\n",
    "df['fn_prob'] = fn_prob"
   ]
  },
  {
   "cell_type": "code",
   "execution_count": 6,
   "id": "c974bbd1-43c2-449f-a5ba-faec0b8a8c15",
   "metadata": {},
   "outputs": [
    {
     "data": {
      "text/plain": [
       "<AxesSubplot:>"
      ]
     },
     "execution_count": 6,
     "metadata": {},
     "output_type": "execute_result"
    },
    {
     "data": {
      "image/png": "[encoded data removed]",
      "text/plain": [
       "<Figure size 432x288 with 1 Axes>"
      ]
     },
     "metadata": {
      "needs_background": "light"
     },
     "output_type": "display_data"
    }
   ],
   "source": [
    "df.fn_prob.plot()"
   ]
  },
  {
   "cell_type": "code",
   "execution_count": 7,
   "id": "8e40fc1d-0d2e-49b0-8491-6a3918b710f0",
   "metadata": {},
   "outputs": [
    {
     "data": {
      "text/plain": [
       "0.22507552870090636"
      ]
     },
     "execution_count": 7,
     "metadata": {},
     "output_type": "execute_result"
    }
   ],
   "source": [
    "df.label.mean()"
   ]
  },
  {
   "cell_type": "code",
   "execution_count": 8,
   "id": "3c8fdd4f-42fe-4f2e-b769-b1b44545931d",
   "metadata": {},
   "outputs": [
    {
     "data": {
      "text/plain": [
       "0.35674780224421954"
      ]
     },
     "execution_count": 8,
     "metadata": {},
     "output_type": "execute_result"
    }
   ],
   "source": [
    "df.Prob_Fake.mean()"
   ]
  },
  {
   "cell_type": "code",
   "execution_count": 9,
   "id": "f5e85476-3bec-4935-9e87-09eab425696b",
   "metadata": {},
   "outputs": [],
   "source": [
    "df.to_csv('all_predictions2.csv')"
   ]
  },
  {
   "cell_type": "code",
   "execution_count": 10,
   "id": "47e24d7c-e44c-49dd-b0b2-ee50cf54ff9e",
   "metadata": {},
   "outputs": [],
   "source": [
    "from ast import literal_eval\n",
    "\n",
    "df2['tokens'] = df2['tokens'].apply(literal_eval) #convert to list type\n",
    "df3 = df2.explode('tokens',False)\n",
    "\n"
   ]
  },
  {
   "cell_type": "code",
   "execution_count": 18,
   "id": "3b8bfa1e-3ed2-487a-9e85-01da7e956cb6",
   "metadata": {},
   "outputs": [
    {
     "data": {
      "application/vnd.plotly.v1+json": {
       "config": {
        "plotlyServerURL": "https://plot.ly"
       },
       "data": [
        {
         "alignmentgroup": "True",
         "bingroup": "x",
         "histfunc": "sum",
         "hovertemplate": "word=%{x}<br>sum of count=%{y}<extra></extra>",
         "legendgroup": "",
         "marker": {
          "color": "#636efa",
          "pattern": {
           "shape": ""
          }
         },
         "name": "",
         "offsetgroup": "",
         "orientation": "v",
         "showlegend": false,
         "type": "histogram",
         "x": [
          "state",
          "president",
          "republican",
          "obama",
          "house",
          "year",
          "new",
          "people",
          "one",
          "government",
          "law",
          "american",
          "say",
          "time",
          "senate",
          "bill",
          "right",
          "federal",
          "white",
          "get",
          "official",
          "party",
          "first",
          "group",
          "health",
          "last",
          "like",
          "make",
          "two",
          "gun",
          "democrat",
          "many",
          "court",
          "political",
          "administration",
          "week",
          "washington",
          "congress",
          "plan",
          "day",
          "national",
          "vote",
          "told",
          "country",
          "way",
          "want",
          "public",
          "dont",
          "news",
          "going"
         ],
         "xaxis": "x",
         "y": [
          27783,
          24084,
          23017,
          22124,
          19986,
          18543,
          18465,
          18074,
          17416,
          16175,
          15351,
          13872,
          13821,
          13570,
          11782,
          11601,
          11164,
          10901,
          10158,
          10139,
          10076,
          9842,
          9779,
          9770,
          9732,
          9728,
          9488,
          9371,
          9299,
          9017,
          8983,
          8838,
          8630,
          8626,
          8542,
          8478,
          8464,
          8369,
          8321,
          8283,
          8090,
          8022,
          7969,
          7684,
          7632,
          7491,
          7489,
          7423,
          7324,
          7297
         ],
         "yaxis": "y"
        }
       ],
       "layout": {
        "autosize": true,
        "barmode": "relative",
        "legend": {
         "tracegroupgap": 0
        },
        "margin": {
         "t": 60
        },
        "template": {
         "data": {
          "bar": [
           {
            "error_x": {
             "color": "#2a3f5f"
            },
            "error_y": {
             "color": "#2a3f5f"
            },
            "marker": {
             "line": {
              "color": "#E5ECF6",
              "width": 0.5
             },
             "pattern": {
              "fillmode": "overlay",
              "size": 10,
              "solidity": 0.2
             }
            },
            "type": "bar"
           }
          ],
          "barpolar": [
           {
            "marker": {
             "line": {
              "color": "#E5ECF6",
              "width": 0.5
             },
             "pattern": {
              "fillmode": "overlay",
              "size": 10,
              "solidity": 0.2
             }
            },
            "type": "barpolar"
           }
          ],
          "carpet": [
           {
            "aaxis": {
             "endlinecolor": "#2a3f5f",
             "gridcolor": "white",
             "linecolor": "white",
             "minorgridcolor": "white",
             "startlinecolor": "#2a3f5f"
            },
            "baxis": {
             "endlinecolor": "#2a3f5f",
             "gridcolor": "white",
             "linecolor": "white",
             "minorgridcolor": "white",
             "startlinecolor": "#2a3f5f"
            },
            "type": "carpet"
           }
          ],
          "choropleth": [
           {
            "colorbar": {
             "outlinewidth": 0,
             "ticks": ""
            },
            "type": "choropleth"
           }
          ],
          "contour": [
           {
            "colorbar": {
             "outlinewidth": 0,
             "ticks": ""
            },
            "colorscale": [
             [
              0,
              "#0d0887"
             ],
             [
              0.1111111111111111,
              "#46039f"
             ],
             [
              0.2222222222222222,
              "#7201a8"
             ],
             [
              0.3333333333333333,
              "#9c179e"
             ],
             [
              0.4444444444444444,
              "#bd3786"
             ],
             [
              0.5555555555555556,
              "#d8576b"
             ],
             [
              0.6666666666666666,
              "#ed7953"
             ],
             [
              0.7777777777777778,
              "#fb9f3a"
             ],
             [
              0.8888888888888888,
              "#fdca26"
             ],
             [
              1,
              "#f0f921"
             ]
            ],
            "type": "contour"
           }
          ],
          "contourcarpet": [
           {
            "colorbar": {
             "outlinewidth": 0,
             "ticks": ""
            },
            "type": "contourcarpet"
           }
          ],
          "heatmap": [
           {
            "colorbar": {
             "outlinewidth": 0,
             "ticks": ""
            },
            "colorscale": [
             [
              0,
              "#0d0887"
             ],
             [
              0.1111111111111111,
              "#46039f"
             ],
             [
              0.2222222222222222,
              "#7201a8"
             ],
             [
              0.3333333333333333,
              "#9c179e"
             ],
             [
              0.4444444444444444,
              "#bd3786"
             ],
             [
              0.5555555555555556,
              "#d8576b"
             ],
             [
              0.6666666666666666,
              "#ed7953"
             ],
             [
              0.7777777777777778,
              "#fb9f3a"
             ],
             [
              0.8888888888888888,
              "#fdca26"
             ],
             [
              1,
              "#f0f921"
             ]
            ],
            "type": "heatmap"
           }
          ],
          "heatmapgl": [
           {
            "colorbar": {
             "outlinewidth": 0,
             "ticks": ""
            },
            "colorscale": [
             [
              0,
              "#0d0887"
             ],
             [
              0.1111111111111111,
              "#46039f"
             ],
             [
              0.2222222222222222,
              "#7201a8"
             ],
             [
              0.3333333333333333,
              "#9c179e"
             ],
             [
              0.4444444444444444,
              "#bd3786"
             ],
             [
              0.5555555555555556,
              "#d8576b"
             ],
             [
              0.6666666666666666,
              "#ed7953"
             ],
             [
              0.7777777777777778,
              "#fb9f3a"
             ],
             [
              0.8888888888888888,
              "#fdca26"
             ],
             [
              1,
              "#f0f921"
             ]
            ],
            "type": "heatmapgl"
           }
          ],
          "histogram": [
           {
            "marker": {
             "pattern": {
              "fillmode": "overlay",
              "size": 10,
              "solidity": 0.2
             }
            },
            "type": "histogram"
           }
          ],
          "histogram2d": [
           {
            "colorbar": {
             "outlinewidth": 0,
             "ticks": ""
            },
            "colorscale": [
             [
              0,
              "#0d0887"
             ],
             [
              0.1111111111111111,
              "#46039f"
             ],
             [
              0.2222222222222222,
              "#7201a8"
             ],
             [
              0.3333333333333333,
              "#9c179e"
             ],
             [
              0.4444444444444444,
              "#bd3786"
             ],
             [
              0.5555555555555556,
              "#d8576b"
             ],
             [
              0.6666666666666666,
              "#ed7953"
             ],
             [
              0.7777777777777778,
              "#fb9f3a"
             ],
             [
              0.8888888888888888,
              "#fdca26"
             ],
             [
              1,
              "#f0f921"
             ]
            ],
            "type": "histogram2d"
           }
          ],
          "histogram2dcontour": [
           {
            "colorbar": {
             "outlinewidth": 0,
             "ticks": ""
            },
            "colorscale": [
             [
              0,
              "#0d0887"
             ],
             [
              0.1111111111111111,
              "#46039f"
             ],
             [
              0.2222222222222222,
              "#7201a8"
             ],
             [
              0.3333333333333333,
              "#9c179e"
             ],
             [
              0.4444444444444444,
              "#bd3786"
             ],
             [
              0.5555555555555556,
              "#d8576b"
             ],
             [
              0.6666666666666666,
              "#ed7953"
             ],
             [
              0.7777777777777778,
              "#fb9f3a"
             ],
             [
              0.8888888888888888,
              "#fdca26"
             ],
             [
              1,
              "#f0f921"
             ]
            ],
            "type": "histogram2dcontour"
           }
          ],
          "mesh3d": [
           {
            "colorbar": {
             "outlinewidth": 0,
             "ticks": ""
            },
            "type": "mesh3d"
           }
          ],
          "parcoords": [
           {
            "line": {
             "colorbar": {
              "outlinewidth": 0,
              "ticks": ""
             }
            },
            "type": "parcoords"
           }
          ],
          "pie": [
           {
            "automargin": true,
            "type": "pie"
           }
          ],
          "scatter": [
           {
            "fillpattern": {
             "fillmode": "overlay",
             "size": 10,
             "solidity": 0.2
            },
            "type": "scatter"
           }
          ],
          "scatter3d": [
           {
            "line": {
             "colorbar": {
              "outlinewidth": 0,
              "ticks": ""
             }
            },
            "marker": {
             "colorbar": {
              "outlinewidth": 0,
              "ticks": ""
             }
            },
            "type": "scatter3d"
           }
          ],
          "scattercarpet": [
           {
            "marker": {
             "colorbar": {
              "outlinewidth": 0,
              "ticks": ""
             }
            },
            "type": "scattercarpet"
           }
          ],
          "scattergeo": [
           {
            "marker": {
             "colorbar": {
              "outlinewidth": 0,
              "ticks": ""
             }
            },
            "type": "scattergeo"
           }
          ],
          "scattergl": [
           {
            "marker": {
             "colorbar": {
              "outlinewidth": 0,
              "ticks": ""
             }
            },
            "type": "scattergl"
           }
          ],
          "scattermapbox": [
           {
            "marker": {
             "colorbar": {
              "outlinewidth": 0,
              "ticks": ""
             }
            },
            "type": "scattermapbox"
           }
          ],
          "scatterpolar": [
           {
            "marker": {
             "colorbar": {
              "outlinewidth": 0,
              "ticks": ""
             }
            },
            "type": "scatterpolar"
           }
          ],
          "scatterpolargl": [
           {
            "marker": {
             "colorbar": {
              "outlinewidth": 0,
              "ticks": ""
             }
            },
            "type": "scatterpolargl"
           }
          ],
          "scatterternary": [
           {
            "marker": {
             "colorbar": {
              "outlinewidth": 0,
              "ticks": ""
             }
            },
            "type": "scatterternary"
           }
          ],
          "surface": [
           {
            "colorbar": {
             "outlinewidth": 0,
             "ticks": ""
            },
            "colorscale": [
             [
              0,
              "#0d0887"
             ],
             [
              0.1111111111111111,
              "#46039f"
             ],
             [
              0.2222222222222222,
              "#7201a8"
             ],
             [
              0.3333333333333333,
              "#9c179e"
             ],
             [
              0.4444444444444444,
              "#bd3786"
             ],
             [
              0.5555555555555556,
              "#d8576b"
             ],
             [
              0.6666666666666666,
              "#ed7953"
             ],
             [
              0.7777777777777778,
              "#fb9f3a"
             ],
             [
              0.8888888888888888,
              "#fdca26"
             ],
             [
              1,
              "#f0f921"
             ]
            ],
            "type": "surface"
           }
          ],
          "table": [
           {
            "cells": {
             "fill": {
              "color": "#EBF0F8"
             },
             "line": {
              "color": "white"
             }
            },
            "header": {
             "fill": {
              "color": "#C8D4E3"
             },
             "line": {
              "color": "white"
             }
            },
            "type": "table"
           }
          ]
         },
         "layout": {
          "annotationdefaults": {
           "arrowcolor": "#2a3f5f",
           "arrowhead": 0,
           "arrowwidth": 1
          },
          "autotypenumbers": "strict",
          "coloraxis": {
           "colorbar": {
            "outlinewidth": 0,
            "ticks": ""
           }
          },
          "colorscale": {
           "diverging": [
            [
             0,
             "#8e0152"
            ],
            [
             0.1,
             "#c51b7d"
            ],
            [
             0.2,
             "#de77ae"
            ],
            [
             0.3,
             "#f1b6da"
            ],
            [
             0.4,
             "#fde0ef"
            ],
            [
             0.5,
             "#f7f7f7"
            ],
            [
             0.6,
             "#e6f5d0"
            ],
            [
             0.7,
             "#b8e186"
            ],
            [
             0.8,
             "#7fbc41"
            ],
            [
             0.9,
             "#4d9221"
            ],
            [
             1,
             "#276419"
            ]
           ],
           "sequential": [
            [
             0,
             "#0d0887"
            ],
            [
             0.1111111111111111,
             "#46039f"
            ],
            [
             0.2222222222222222,
             "#7201a8"
            ],
            [
             0.3333333333333333,
             "#9c179e"
            ],
            [
             0.4444444444444444,
             "#bd3786"
            ],
            [
             0.5555555555555556,
             "#d8576b"
            ],
            [
             0.6666666666666666,
             "#ed7953"
            ],
            [
             0.7777777777777778,
             "#fb9f3a"
            ],
            [
             0.8888888888888888,
             "#fdca26"
            ],
            [
             1,
             "#f0f921"
            ]
           ],
           "sequentialminus": [
            [
             0,
             "#0d0887"
            ],
            [
             0.1111111111111111,
             "#46039f"
            ],
            [
             0.2222222222222222,
             "#7201a8"
            ],
            [
             0.3333333333333333,
             "#9c179e"
            ],
            [
             0.4444444444444444,
             "#bd3786"
            ],
            [
             0.5555555555555556,
             "#d8576b"
            ],
            [
             0.6666666666666666,
             "#ed7953"
            ],
            [
             0.7777777777777778,
             "#fb9f3a"
            ],
            [
             0.8888888888888888,
             "#fdca26"
            ],
            [
             1,
             "#f0f921"
            ]
           ]
          },
          "colorway": [
           "#636efa",
           "#EF553B",
           "#00cc96",
           "#ab63fa",
           "#FFA15A",
           "#19d3f3",
           "#FF6692",
           "#B6E880",
           "#FF97FF",
           "#FECB52"
          ],
          "font": {
           "color": "#2a3f5f"
          },
          "geo": {
           "bgcolor": "white",
           "lakecolor": "white",
           "landcolor": "#E5ECF6",
           "showlakes": true,
           "showland": true,
           "subunitcolor": "white"
          },
          "hoverlabel": {
           "align": "left"
          },
          "hovermode": "closest",
          "mapbox": {
           "style": "light"
          },
          "paper_bgcolor": "white",
          "plot_bgcolor": "#E5ECF6",
          "polar": {
           "angularaxis": {
            "gridcolor": "white",
            "linecolor": "white",
            "ticks": ""
           },
           "bgcolor": "#E5ECF6",
           "radialaxis": {
            "gridcolor": "white",
            "linecolor": "white",
            "ticks": ""
           }
          },
          "scene": {
           "xaxis": {
            "backgroundcolor": "#E5ECF6",
            "gridcolor": "white",
            "gridwidth": 2,
            "linecolor": "white",
            "showbackground": true,
            "ticks": "",
            "zerolinecolor": "white"
           },
           "yaxis": {
            "backgroundcolor": "#E5ECF6",
            "gridcolor": "white",
            "gridwidth": 2,
            "linecolor": "white",
            "showbackground": true,
            "ticks": "",
            "zerolinecolor": "white"
           },
           "zaxis": {
            "backgroundcolor": "#E5ECF6",
            "gridcolor": "white",
            "gridwidth": 2,
            "linecolor": "white",
            "showbackground": true,
            "ticks": "",
            "zerolinecolor": "white"
           }
          },
          "shapedefaults": {
           "line": {
            "color": "#2a3f5f"
           }
          },
          "ternary": {
           "aaxis": {
            "gridcolor": "white",
            "linecolor": "white",
            "ticks": ""
           },
           "baxis": {
            "gridcolor": "white",
            "linecolor": "white",
            "ticks": ""
           },
           "bgcolor": "#E5ECF6",
           "caxis": {
            "gridcolor": "white",
            "linecolor": "white",
            "ticks": ""
           }
          },
          "title": {
           "x": 0.05
          },
          "xaxis": {
           "automargin": true,
           "gridcolor": "white",
           "linecolor": "white",
           "ticks": "",
           "title": {
            "standoff": 15
           },
           "zerolinecolor": "white",
           "zerolinewidth": 2
          },
          "yaxis": {
           "automargin": true,
           "gridcolor": "white",
           "linecolor": "white",
           "ticks": "",
           "title": {
            "standoff": 15
           },
           "zerolinecolor": "white",
           "zerolinewidth": 2
          }
         }
        },
        "xaxis": {
         "anchor": "y",
         "autorange": true,
         "domain": [
          0,
          1
         ],
         "range": [
          -0.5,
          49.5
         ],
         "title": {
          "text": "word"
         },
         "type": "category"
        },
        "yaxis": {
         "anchor": "x",
         "autorange": true,
         "domain": [
          0,
          1
         ],
         "range": [
          0,
          29245.263157894737
         ],
         "title": {
          "text": "sum of count"
         },
         "type": "linear"
        }
       }
      },
      "image/png": "[encoded data removed]",
      "text/html": [
       "<div>                            <div id=\"d53ce255-ebb6-4dfd-b121-1173de82403d\" class=\"plotly-graph-div\" style=\"height:525px; width:100%;\"></div>            <script type=\"text/javascript\">                require([\"plotly\"], function(Plotly) {                    window.PLOTLYENV=window.PLOTLYENV || {};                                    if (document.getElementById(\"d53ce255-ebb6-4dfd-b121-1173de82403d\")) {                    Plotly.newPlot(                        \"d53ce255-ebb6-4dfd-b121-1173de82403d\",                        [{\"alignmentgroup\":\"True\",\"bingroup\":\"x\",\"histfunc\":\"sum\",\"hovertemplate\":\"word=%{x}<br>sum of count=%{y}<extra></extra>\",\"legendgroup\":\"\",\"marker\":{\"color\":\"#636efa\",\"pattern\":{\"shape\":\"\"}},\"name\":\"\",\"offsetgroup\":\"\",\"orientation\":\"v\",\"showlegend\":false,\"x\":[\"state\",\"president\",\"republican\",\"obama\",\"house\",\"year\",\"new\",\"people\",\"one\",\"government\",\"law\",\"american\",\"say\",\"time\",\"senate\",\"bill\",\"right\",\"federal\",\"white\",\"get\",\"official\",\"party\",\"first\",\"group\",\"health\",\"last\",\"like\",\"make\",\"two\",\"gun\",\"democrat\",\"many\",\"court\",\"political\",\"administration\",\"week\",\"washington\",\"congress\",\"plan\",\"day\",\"national\",\"vote\",\"told\",\"country\",\"way\",\"want\",\"public\",\"dont\",\"news\",\"going\"],\"xaxis\":\"x\",\"y\":[27783,24084,23017,22124,19986,18543,18465,18074,17416,16175,15351,13872,13821,13570,11782,11601,11164,10901,10158,10139,10076,9842,9779,9770,9732,9728,9488,9371,9299,9017,8983,8838,8630,8626,8542,8478,8464,8369,8321,8283,8090,8022,7969,7684,7632,7491,7489,7423,7324,7297],\"yaxis\":\"y\",\"type\":\"histogram\"}],                        {\"template\":{\"data\":{\"histogram2dcontour\":[{\"type\":\"histogram2dcontour\",\"colorbar\":{\"outlinewidth\":0,\"ticks\":\"\"},\"colorscale\":[[0.0,\"#0d0887\"],[0.1111111111111111,\"#46039f\"],[0.2222222222222222,\"#7201a8\"],[0.3333333333333333,\"#9c179e\"],[0.4444444444444444,\"#bd3786\"],[0.5555555555555556,\"#d8576b\"],[0.6666666666666666,\"#ed7953\"],[0.7777777777777778,\"#fb9f3a\"],[0.8888888888888888,\"#fdca26\"],[1.0,\"#f0f921\"]]}],\"choropleth\":[{\"type\":\"choropleth\",\"colorbar\":{\"outlinewidth\":0,\"ticks\":\"\"}}],\"histogram2d\":[{\"type\":\"histogram2d\",\"colorbar\":{\"outlinewidth\":0,\"ticks\":\"\"},\"colorscale\":[[0.0,\"#0d0887\"],[0.1111111111111111,\"#46039f\"],[0.2222222222222222,\"#7201a8\"],[0.3333333333333333,\"#9c179e\"],[0.4444444444444444,\"#bd3786\"],[0.5555555555555556,\"#d8576b\"],[0.6666666666666666,\"#ed7953\"],[0.7777777777777778,\"#fb9f3a\"],[0.8888888888888888,\"#fdca26\"],[1.0,\"#f0f921\"]]}],\"heatmap\":[{\"type\":\"heatmap\",\"colorbar\":{\"outlinewidth\":0,\"ticks\":\"\"},\"colorscale\":[[0.0,\"#0d0887\"],[0.1111111111111111,\"#46039f\"],[0.2222222222222222,\"#7201a8\"],[0.3333333333333333,\"#9c179e\"],[0.4444444444444444,\"#bd3786\"],[0.5555555555555556,\"#d8576b\"],[0.6666666666666666,\"#ed7953\"],[0.7777777777777778,\"#fb9f3a\"],[0.8888888888888888,\"#fdca26\"],[1.0,\"#f0f921\"]]}],\"heatmapgl\":[{\"type\":\"heatmapgl\",\"colorbar\":{\"outlinewidth\":0,\"ticks\":\"\"},\"colorscale\":[[0.0,\"#0d0887\"],[0.1111111111111111,\"#46039f\"],[0.2222222222222222,\"#7201a8\"],[0.3333333333333333,\"#9c179e\"],[0.4444444444444444,\"#bd3786\"],[0.5555555555555556,\"#d8576b\"],[0.6666666666666666,\"#ed7953\"],[0.7777777777777778,\"#fb9f3a\"],[0.8888888888888888,\"#fdca26\"],[1.0,\"#f0f921\"]]}],\"contourcarpet\":[{\"type\":\"contourcarpet\",\"colorbar\":{\"outlinewidth\":0,\"ticks\":\"\"}}],\"contour\":[{\"type\":\"contour\",\"colorbar\":{\"outlinewidth\":0,\"ticks\":\"\"},\"colorscale\":[[0.0,\"#0d0887\"],[0.1111111111111111,\"#46039f\"],[0.2222222222222222,\"#7201a8\"],[0.3333333333333333,\"#9c179e\"],[0.4444444444444444,\"#bd3786\"],[0.5555555555555556,\"#d8576b\"],[0.6666666666666666,\"#ed7953\"],[0.7777777777777778,\"#fb9f3a\"],[0.8888888888888888,\"#fdca26\"],[1.0,\"#f0f921\"]]}],\"surface\":[{\"type\":\"surface\",\"colorbar\":{\"outlinewidth\":0,\"ticks\":\"\"},\"colorscale\":[[0.0,\"#0d0887\"],[0.1111111111111111,\"#46039f\"],[0.2222222222222222,\"#7201a8\"],[0.3333333333333333,\"#9c179e\"],[0.4444444444444444,\"#bd3786\"],[0.5555555555555556,\"#d8576b\"],[0.6666666666666666,\"#ed7953\"],[0.7777777777777778,\"#fb9f3a\"],[0.8888888888888888,\"#fdca26\"],[1.0,\"#f0f921\"]]}],\"mesh3d\":[{\"type\":\"mesh3d\",\"colorbar\":{\"outlinewidth\":0,\"ticks\":\"\"}}],\"scatter\":[{\"fillpattern\":{\"fillmode\":\"overlay\",\"size\":10,\"solidity\":0.2},\"type\":\"scatter\"}],\"parcoords\":[{\"type\":\"parcoords\",\"line\":{\"colorbar\":{\"outlinewidth\":0,\"ticks\":\"\"}}}],\"scatterpolargl\":[{\"type\":\"scatterpolargl\",\"marker\":{\"colorbar\":{\"outlinewidth\":0,\"ticks\":\"\"}}}],\"bar\":[{\"error_x\":{\"color\":\"#2a3f5f\"},\"error_y\":{\"color\":\"#2a3f5f\"},\"marker\":{\"line\":{\"color\":\"#E5ECF6\",\"width\":0.5},\"pattern\":{\"fillmode\":\"overlay\",\"size\":10,\"solidity\":0.2}},\"type\":\"bar\"}],\"scattergeo\":[{\"type\":\"scattergeo\",\"marker\":{\"colorbar\":{\"outlinewidth\":0,\"ticks\":\"\"}}}],\"scatterpolar\":[{\"type\":\"scatterpolar\",\"marker\":{\"colorbar\":{\"outlinewidth\":0,\"ticks\":\"\"}}}],\"histogram\":[{\"marker\":{\"pattern\":{\"fillmode\":\"overlay\",\"size\":10,\"solidity\":0.2}},\"type\":\"histogram\"}],\"scattergl\":[{\"type\":\"scattergl\",\"marker\":{\"colorbar\":{\"outlinewidth\":0,\"ticks\":\"\"}}}],\"scatter3d\":[{\"type\":\"scatter3d\",\"line\":{\"colorbar\":{\"outlinewidth\":0,\"ticks\":\"\"}},\"marker\":{\"colorbar\":{\"outlinewidth\":0,\"ticks\":\"\"}}}],\"scattermapbox\":[{\"type\":\"scattermapbox\",\"marker\":{\"colorbar\":{\"outlinewidth\":0,\"ticks\":\"\"}}}],\"scatterternary\":[{\"type\":\"scatterternary\",\"marker\":{\"colorbar\":{\"outlinewidth\":0,\"ticks\":\"\"}}}],\"scattercarpet\":[{\"type\":\"scattercarpet\",\"marker\":{\"colorbar\":{\"outlinewidth\":0,\"ticks\":\"\"}}}],\"carpet\":[{\"aaxis\":{\"endlinecolor\":\"#2a3f5f\",\"gridcolor\":\"white\",\"linecolor\":\"white\",\"minorgridcolor\":\"white\",\"startlinecolor\":\"#2a3f5f\"},\"baxis\":{\"endlinecolor\":\"#2a3f5f\",\"gridcolor\":\"white\",\"linecolor\":\"white\",\"minorgridcolor\":\"white\",\"startlinecolor\":\"#2a3f5f\"},\"type\":\"carpet\"}],\"table\":[{\"cells\":{\"fill\":{\"color\":\"#EBF0F8\"},\"line\":{\"color\":\"white\"}},\"header\":{\"fill\":{\"color\":\"#C8D4E3\"},\"line\":{\"color\":\"white\"}},\"type\":\"table\"}],\"barpolar\":[{\"marker\":{\"line\":{\"color\":\"#E5ECF6\",\"width\":0.5},\"pattern\":{\"fillmode\":\"overlay\",\"size\":10,\"solidity\":0.2}},\"type\":\"barpolar\"}],\"pie\":[{\"automargin\":true,\"type\":\"pie\"}]},\"layout\":{\"autotypenumbers\":\"strict\",\"colorway\":[\"#636efa\",\"#EF553B\",\"#00cc96\",\"#ab63fa\",\"#FFA15A\",\"#19d3f3\",\"#FF6692\",\"#B6E880\",\"#FF97FF\",\"#FECB52\"],\"font\":{\"color\":\"#2a3f5f\"},\"hovermode\":\"closest\",\"hoverlabel\":{\"align\":\"left\"},\"paper_bgcolor\":\"white\",\"plot_bgcolor\":\"#E5ECF6\",\"polar\":{\"bgcolor\":\"#E5ECF6\",\"angularaxis\":{\"gridcolor\":\"white\",\"linecolor\":\"white\",\"ticks\":\"\"},\"radialaxis\":{\"gridcolor\":\"white\",\"linecolor\":\"white\",\"ticks\":\"\"}},\"ternary\":{\"bgcolor\":\"#E5ECF6\",\"aaxis\":{\"gridcolor\":\"white\",\"linecolor\":\"white\",\"ticks\":\"\"},\"baxis\":{\"gridcolor\":\"white\",\"linecolor\":\"white\",\"ticks\":\"\"},\"caxis\":{\"gridcolor\":\"white\",\"linecolor\":\"white\",\"ticks\":\"\"}},\"coloraxis\":{\"colorbar\":{\"outlinewidth\":0,\"ticks\":\"\"}},\"colorscale\":{\"sequential\":[[0.0,\"#0d0887\"],[0.1111111111111111,\"#46039f\"],[0.2222222222222222,\"#7201a8\"],[0.3333333333333333,\"#9c179e\"],[0.4444444444444444,\"#bd3786\"],[0.5555555555555556,\"#d8576b\"],[0.6666666666666666,\"#ed7953\"],[0.7777777777777778,\"#fb9f3a\"],[0.8888888888888888,\"#fdca26\"],[1.0,\"#f0f921\"]],\"sequentialminus\":[[0.0,\"#0d0887\"],[0.1111111111111111,\"#46039f\"],[0.2222222222222222,\"#7201a8\"],[0.3333333333333333,\"#9c179e\"],[0.4444444444444444,\"#bd3786\"],[0.5555555555555556,\"#d8576b\"],[0.6666666666666666,\"#ed7953\"],[0.7777777777777778,\"#fb9f3a\"],[0.8888888888888888,\"#fdca26\"],[1.0,\"#f0f921\"]],\"diverging\":[[0,\"#8e0152\"],[0.1,\"#c51b7d\"],[0.2,\"#de77ae\"],[0.3,\"#f1b6da\"],[0.4,\"#fde0ef\"],[0.5,\"#f7f7f7\"],[0.6,\"#e6f5d0\"],[0.7,\"#b8e186\"],[0.8,\"#7fbc41\"],[0.9,\"#4d9221\"],[1,\"#276419\"]]},\"xaxis\":{\"gridcolor\":\"white\",\"linecolor\":\"white\",\"ticks\":\"\",\"title\":{\"standoff\":15},\"zerolinecolor\":\"white\",\"automargin\":true,\"zerolinewidth\":2},\"yaxis\":{\"gridcolor\":\"white\",\"linecolor\":\"white\",\"ticks\":\"\",\"title\":{\"standoff\":15},\"zerolinecolor\":\"white\",\"automargin\":true,\"zerolinewidth\":2},\"scene\":{\"xaxis\":{\"backgroundcolor\":\"#E5ECF6\",\"gridcolor\":\"white\",\"linecolor\":\"white\",\"showbackground\":true,\"ticks\":\"\",\"zerolinecolor\":\"white\",\"gridwidth\":2},\"yaxis\":{\"backgroundcolor\":\"#E5ECF6\",\"gridcolor\":\"white\",\"linecolor\":\"white\",\"showbackground\":true,\"ticks\":\"\",\"zerolinecolor\":\"white\",\"gridwidth\":2},\"zaxis\":{\"backgroundcolor\":\"#E5ECF6\",\"gridcolor\":\"white\",\"linecolor\":\"white\",\"showbackground\":true,\"ticks\":\"\",\"zerolinecolor\":\"white\",\"gridwidth\":2}},\"shapedefaults\":{\"line\":{\"color\":\"#2a3f5f\"}},\"annotationdefaults\":{\"arrowcolor\":\"#2a3f5f\",\"arrowhead\":0,\"arrowwidth\":1},\"geo\":{\"bgcolor\":\"white\",\"landcolor\":\"#E5ECF6\",\"subunitcolor\":\"white\",\"showland\":true,\"showlakes\":true,\"lakecolor\":\"white\"},\"title\":{\"x\":0.05},\"mapbox\":{\"style\":\"light\"}}},\"xaxis\":{\"anchor\":\"y\",\"domain\":[0.0,1.0],\"title\":{\"text\":\"word\"}},\"yaxis\":{\"anchor\":\"x\",\"domain\":[0.0,1.0],\"title\":{\"text\":\"sum of count\"}},\"legend\":{\"tracegroupgap\":0},\"margin\":{\"t\":60},\"barmode\":\"relative\"},                        {\"responsive\": true}                    ).then(function(){\n",
       "                            \n",
       "var gd = document.getElementById('d53ce255-ebb6-4dfd-b121-1173de82403d');\n",
       "var x = new MutationObserver(function (mutations, observer) {{\n",
       "        var display = window.getComputedStyle(gd).display;\n",
       "        if (!display || display === 'none') {{\n",
       "            console.log([gd, 'removed!']);\n",
       "            Plotly.purge(gd);\n",
       "            observer.disconnect();\n",
       "        }}\n",
       "}});\n",
       "\n",
       "// Listen for the removal of the full notebook cells\n",
       "var notebookContainer = gd.closest('#notebook-container');\n",
       "if (notebookContainer) {{\n",
       "    x.observe(notebookContainer, {childList: true});\n",
       "}}\n",
       "\n",
       "// Listen for the clearing of the current output cell\n",
       "var outputEl = gd.closest('.output');\n",
       "if (outputEl) {{\n",
       "    x.observe(outputEl, {childList: true});\n",
       "}}\n",
       "\n",
       "                        })                };                });            </script>        </div>"
      ]
     },
     "metadata": {},
     "output_type": "display_data"
    }
   ],
   "source": [
    "import plotly.express as px\n",
    "from nltk.probability import FreqDist\n",
    "\n",
    "words = []\n",
    "for wordList in df2.tokens:\n",
    "    words += wordList\n",
    "\n",
    "common_wds = pd.DataFrame(FreqDist(words).most_common(50), columns = ['word','count'])\n",
    "\n",
    "fig2 = px.histogram(common_wds, x=\"word\", y='count')\n",
    "fig2"
   ]
  },
  {
   "cell_type": "code",
   "execution_count": 13,
   "id": "28c66e3c-65e4-45d9-98da-48af8cfe8271",
   "metadata": {},
   "outputs": [
    {
     "data": {
      "text/html": [
       "<div>\n",
       "<style scoped>\n",
       "    .dataframe tbody tr th:only-of-type {\n",
       "        vertical-align: middle;\n",
       "    }\n",
       "\n",
       "    .dataframe tbody tr th {\n",
       "        vertical-align: top;\n",
       "    }\n",
       "\n",
       "    .dataframe thead th {\n",
       "        text-align: right;\n",
       "    }\n",
       "</style>\n",
       "<table border=\"1\" class=\"dataframe\">\n",
       "  <thead>\n",
       "    <tr style=\"text-align: right;\">\n",
       "      <th></th>\n",
       "      <th>id</th>\n",
       "      <th>title</th>\n",
       "      <th>article</th>\n",
       "      <th>democrat</th>\n",
       "      <th>republican</th>\n",
       "      <th>type</th>\n",
       "      <th>tokens</th>\n",
       "      <th>tokens_str</th>\n",
       "      <th>sentiment</th>\n",
       "      <th>word_count</th>\n",
       "      <th>article_len</th>\n",
       "    </tr>\n",
       "  </thead>\n",
       "  <tbody>\n",
       "    <tr>\n",
       "      <th>0</th>\n",
       "      <td>0</td>\n",
       "      <td>Zimmerman verdict renews focus on 'stand your ...</td>\n",
       "      <td>Maggie Clark\\n\\nPew/Stateline Staff Writer\\n\\n...</td>\n",
       "      <td>2</td>\n",
       "      <td>2</td>\n",
       "      <td>2.0</td>\n",
       "      <td>maggie</td>\n",
       "      <td>maggie clarkpewstateline staff writer state la...</td>\n",
       "      <td>0.079039</td>\n",
       "      <td>389</td>\n",
       "      <td>2885</td>\n",
       "    </tr>\n",
       "    <tr>\n",
       "      <th>0</th>\n",
       "      <td>0</td>\n",
       "      <td>Zimmerman verdict renews focus on 'stand your ...</td>\n",
       "      <td>Maggie Clark\\n\\nPew/Stateline Staff Writer\\n\\n...</td>\n",
       "      <td>2</td>\n",
       "      <td>2</td>\n",
       "      <td>2.0</td>\n",
       "      <td>clarkpewstateline</td>\n",
       "      <td>maggie clarkpewstateline staff writer state la...</td>\n",
       "      <td>0.079039</td>\n",
       "      <td>389</td>\n",
       "      <td>2885</td>\n",
       "    </tr>\n",
       "    <tr>\n",
       "      <th>0</th>\n",
       "      <td>0</td>\n",
       "      <td>Zimmerman verdict renews focus on 'stand your ...</td>\n",
       "      <td>Maggie Clark\\n\\nPew/Stateline Staff Writer\\n\\n...</td>\n",
       "      <td>2</td>\n",
       "      <td>2</td>\n",
       "      <td>2.0</td>\n",
       "      <td>staff</td>\n",
       "      <td>maggie clarkpewstateline staff writer state la...</td>\n",
       "      <td>0.079039</td>\n",
       "      <td>389</td>\n",
       "      <td>2885</td>\n",
       "    </tr>\n",
       "    <tr>\n",
       "      <th>0</th>\n",
       "      <td>0</td>\n",
       "      <td>Zimmerman verdict renews focus on 'stand your ...</td>\n",
       "      <td>Maggie Clark\\n\\nPew/Stateline Staff Writer\\n\\n...</td>\n",
       "      <td>2</td>\n",
       "      <td>2</td>\n",
       "      <td>2.0</td>\n",
       "      <td>writer</td>\n",
       "      <td>maggie clarkpewstateline staff writer state la...</td>\n",
       "      <td>0.079039</td>\n",
       "      <td>389</td>\n",
       "      <td>2885</td>\n",
       "    </tr>\n",
       "    <tr>\n",
       "      <th>0</th>\n",
       "      <td>0</td>\n",
       "      <td>Zimmerman verdict renews focus on 'stand your ...</td>\n",
       "      <td>Maggie Clark\\n\\nPew/Stateline Staff Writer\\n\\n...</td>\n",
       "      <td>2</td>\n",
       "      <td>2</td>\n",
       "      <td>2.0</td>\n",
       "      <td>state</td>\n",
       "      <td>maggie clarkpewstateline staff writer state la...</td>\n",
       "      <td>0.079039</td>\n",
       "      <td>389</td>\n",
       "      <td>2885</td>\n",
       "    </tr>\n",
       "    <tr>\n",
       "      <th>...</th>\n",
       "      <td>...</td>\n",
       "      <td>...</td>\n",
       "      <td>...</td>\n",
       "      <td>...</td>\n",
       "      <td>...</td>\n",
       "      <td>...</td>\n",
       "      <td>...</td>\n",
       "      <td>...</td>\n",
       "      <td>...</td>\n",
       "      <td>...</td>\n",
       "      <td>...</td>\n",
       "    </tr>\n",
       "    <tr>\n",
       "      <th>15839</th>\n",
       "      <td>15839</td>\n",
       "      <td>'This Week' Criticized For Donald Trump Interv...</td>\n",
       "      <td>FILE - In this Sept. 27, 2012 file photo, Dona...</td>\n",
       "      <td>1</td>\n",
       "      <td>1</td>\n",
       "      <td>1.0</td>\n",
       "      <td>people</td>\n",
       "      <td>file sept file photo donald trump arrives open...</td>\n",
       "      <td>-0.149832</td>\n",
       "      <td>189</td>\n",
       "      <td>1389</td>\n",
       "    </tr>\n",
       "    <tr>\n",
       "      <th>15839</th>\n",
       "      <td>15839</td>\n",
       "      <td>'This Week' Criticized For Donald Trump Interv...</td>\n",
       "      <td>FILE - In this Sept. 27, 2012 file photo, Dona...</td>\n",
       "      <td>1</td>\n",
       "      <td>1</td>\n",
       "      <td>1.0</td>\n",
       "      <td>raising</td>\n",
       "      <td>file sept file photo donald trump arrives open...</td>\n",
       "      <td>-0.149832</td>\n",
       "      <td>189</td>\n",
       "      <td>1389</td>\n",
       "    </tr>\n",
       "    <tr>\n",
       "      <th>15839</th>\n",
       "      <td>15839</td>\n",
       "      <td>'This Week' Criticized For Donald Trump Interv...</td>\n",
       "      <td>FILE - In this Sept. 27, 2012 file photo, Dona...</td>\n",
       "      <td>1</td>\n",
       "      <td>1</td>\n",
       "      <td>1.0</td>\n",
       "      <td>eyebrow</td>\n",
       "      <td>file sept file photo donald trump arrives open...</td>\n",
       "      <td>-0.149832</td>\n",
       "      <td>189</td>\n",
       "      <td>1389</td>\n",
       "    </tr>\n",
       "    <tr>\n",
       "      <th>15839</th>\n",
       "      <td>15839</td>\n",
       "      <td>'This Week' Criticized For Donald Trump Interv...</td>\n",
       "      <td>FILE - In this Sept. 27, 2012 file photo, Dona...</td>\n",
       "      <td>1</td>\n",
       "      <td>1</td>\n",
       "      <td>1.0</td>\n",
       "      <td>rolling</td>\n",
       "      <td>file sept file photo donald trump arrives open...</td>\n",
       "      <td>-0.149832</td>\n",
       "      <td>189</td>\n",
       "      <td>1389</td>\n",
       "    </tr>\n",
       "    <tr>\n",
       "      <th>15839</th>\n",
       "      <td>15839</td>\n",
       "      <td>'This Week' Criticized For Donald Trump Interv...</td>\n",
       "      <td>FILE - In this Sept. 27, 2012 file photo, Dona...</td>\n",
       "      <td>1</td>\n",
       "      <td>1</td>\n",
       "      <td>1.0</td>\n",
       "      <td>eye</td>\n",
       "      <td>file sept file photo donald trump arrives open...</td>\n",
       "      <td>-0.149832</td>\n",
       "      <td>189</td>\n",
       "      <td>1389</td>\n",
       "    </tr>\n",
       "  </tbody>\n",
       "</table>\n",
       "<p>4668423 rows × 11 columns</p>\n",
       "</div>"
      ],
      "text/plain": [
       "          id                                              title  \\\n",
       "0          0  Zimmerman verdict renews focus on 'stand your ...   \n",
       "0          0  Zimmerman verdict renews focus on 'stand your ...   \n",
       "0          0  Zimmerman verdict renews focus on 'stand your ...   \n",
       "0          0  Zimmerman verdict renews focus on 'stand your ...   \n",
       "0          0  Zimmerman verdict renews focus on 'stand your ...   \n",
       "...      ...                                                ...   \n",
       "15839  15839  'This Week' Criticized For Donald Trump Interv...   \n",
       "15839  15839  'This Week' Criticized For Donald Trump Interv...   \n",
       "15839  15839  'This Week' Criticized For Donald Trump Interv...   \n",
       "15839  15839  'This Week' Criticized For Donald Trump Interv...   \n",
       "15839  15839  'This Week' Criticized For Donald Trump Interv...   \n",
       "\n",
       "                                                 article  democrat  \\\n",
       "0      Maggie Clark\\n\\nPew/Stateline Staff Writer\\n\\n...         2   \n",
       "0      Maggie Clark\\n\\nPew/Stateline Staff Writer\\n\\n...         2   \n",
       "0      Maggie Clark\\n\\nPew/Stateline Staff Writer\\n\\n...         2   \n",
       "0      Maggie Clark\\n\\nPew/Stateline Staff Writer\\n\\n...         2   \n",
       "0      Maggie Clark\\n\\nPew/Stateline Staff Writer\\n\\n...         2   \n",
       "...                                                  ...       ...   \n",
       "15839  FILE - In this Sept. 27, 2012 file photo, Dona...         1   \n",
       "15839  FILE - In this Sept. 27, 2012 file photo, Dona...         1   \n",
       "15839  FILE - In this Sept. 27, 2012 file photo, Dona...         1   \n",
       "15839  FILE - In this Sept. 27, 2012 file photo, Dona...         1   \n",
       "15839  FILE - In this Sept. 27, 2012 file photo, Dona...         1   \n",
       "\n",
       "       republican  type             tokens  \\\n",
       "0               2   2.0             maggie   \n",
       "0               2   2.0  clarkpewstateline   \n",
       "0               2   2.0              staff   \n",
       "0               2   2.0             writer   \n",
       "0               2   2.0              state   \n",
       "...           ...   ...                ...   \n",
       "15839           1   1.0             people   \n",
       "15839           1   1.0            raising   \n",
       "15839           1   1.0            eyebrow   \n",
       "15839           1   1.0            rolling   \n",
       "15839           1   1.0                eye   \n",
       "\n",
       "                                              tokens_str  sentiment  \\\n",
       "0      maggie clarkpewstateline staff writer state la...   0.079039   \n",
       "0      maggie clarkpewstateline staff writer state la...   0.079039   \n",
       "0      maggie clarkpewstateline staff writer state la...   0.079039   \n",
       "0      maggie clarkpewstateline staff writer state la...   0.079039   \n",
       "0      maggie clarkpewstateline staff writer state la...   0.079039   \n",
       "...                                                  ...        ...   \n",
       "15839  file sept file photo donald trump arrives open...  -0.149832   \n",
       "15839  file sept file photo donald trump arrives open...  -0.149832   \n",
       "15839  file sept file photo donald trump arrives open...  -0.149832   \n",
       "15839  file sept file photo donald trump arrives open...  -0.149832   \n",
       "15839  file sept file photo donald trump arrives open...  -0.149832   \n",
       "\n",
       "       word_count  article_len  \n",
       "0             389         2885  \n",
       "0             389         2885  \n",
       "0             389         2885  \n",
       "0             389         2885  \n",
       "0             389         2885  \n",
       "...           ...          ...  \n",
       "15839         189         1389  \n",
       "15839         189         1389  \n",
       "15839         189         1389  \n",
       "15839         189         1389  \n",
       "15839         189         1389  \n",
       "\n",
       "[4668423 rows x 11 columns]"
      ]
     },
     "execution_count": 13,
     "metadata": {},
     "output_type": "execute_result"
    }
   ],
   "source": [
    "df3"
   ]
  },
  {
   "cell_type": "code",
   "execution_count": null,
   "id": "ac28ef30-c211-43c1-a2dd-e2f6a90d855c",
   "metadata": {},
   "outputs": [],
   "source": []
  }
 ],
 "metadata": {
  "kernelspec": {
   "display_name": "Python 3 (ipykernel)",
   "language": "python",
   "name": "python3"
  },
  "language_info": {
   "codemirror_mode": {
    "name": "ipython",
    "version": 3
   },
   "file_extension": ".py",
   "mimetype": "text/x-python",
   "name": "python",
   "nbconvert_exporter": "python",
   "pygments_lexer": "ipython3",
   "version": "3.9.12"
  }
 },
 "nbformat": 4,
 "nbformat_minor": 5
}
